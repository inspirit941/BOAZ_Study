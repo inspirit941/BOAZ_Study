{
 "cells": [
  {
   "cell_type": "markdown",
   "metadata": {},
   "source": [
    "# Autograd: 자동 미분"
   ]
  },
  {
   "cell_type": "markdown",
   "metadata": {},
   "source": [
    "- Autograd 패키지는 tensor의 모든 연산에 자동 미분을 제공합니다. 이는 define-by-run의 프레임워크로 코드를 어떻게 작성하느냐에 따라 역전파가 정의된다는 뜻입니다. 역전파는 학습과정의 매 단계마다 달라집니다.\n",
    "- .requires_grad 속성을 True로 설정하면 해당 tensor의 모든 연산을 추적합니다. 계산이 완료된 후 .backward()를 호출해 gradient를 자동으로 계산할 수 있습니다. 이 tensor의 gradient는 .grad에 누적됩니다.\n",
    "- 연산 기록을 추적하는 것을 멈추기 위해 코드 블럭을 with torch.no_grad():로 감쌀 수 있습니다. gradient는 필요 없지만 requires_grad=True가 설정되어 학습 가능한 Parameter(매개변수)를 갖는 모델을 평가할 때 유용합니다."
   ]
  },
  {
   "cell_type": "code",
   "execution_count": 1,
   "metadata": {},
   "outputs": [],
   "source": [
    "import torch"
   ]
  },
  {
   "cell_type": "code",
   "execution_count": 2,
   "metadata": {},
   "outputs": [
    {
     "name": "stdout",
     "output_type": "stream",
     "text": [
      "tensor([[1., 1.],\n",
      "        [1., 1.]], requires_grad=True)\n"
     ]
    }
   ],
   "source": [
    "x = torch.ones(2,2,requires_grad=True) \n",
    "#tensor를 생성하고 requires_grad=True로 연산을 기록합니다.\n",
    "print(x)"
   ]
  },
  {
   "cell_type": "code",
   "execution_count": 3,
   "metadata": {},
   "outputs": [
    {
     "name": "stdout",
     "output_type": "stream",
     "text": [
      "tensor([[3., 3.],\n",
      "        [3., 3.]], grad_fn=<AddBackward0>)\n"
     ]
    }
   ],
   "source": [
    "y = x+2 #gradient function이 자동으로 포함됩니다.\n",
    "print(y)"
   ]
  },
  {
   "cell_type": "code",
   "execution_count": 4,
   "metadata": {},
   "outputs": [
    {
     "name": "stdout",
     "output_type": "stream",
     "text": [
      "tensor([[27., 27.],\n",
      "        [27., 27.]], grad_fn=<MulBackward0>) tensor(27., grad_fn=<MeanBackward1>)\n"
     ]
    }
   ],
   "source": [
    "z = y*y*3\n",
    "out = z.mean() # vector값을 scalar로 변경한 거 같은데, 실제로도 이런 식으로 vector를 scalar로 변경하나?\n",
    "print(z,out)"
   ]
  },
  {
   "cell_type": "code",
   "execution_count": 7,
   "metadata": {},
   "outputs": [
    {
     "name": "stdout",
     "output_type": "stream",
     "text": [
      "False\n",
      "None\n",
      "True\n",
      "<SumBackward0 object at 0x120d362b0>\n"
     ]
    }
   ],
   "source": [
    "a = torch.randn(2,2)\n",
    "a = ((a*3)/(a-1)) \n",
    "print(a.requires_grad)\n",
    "print(a.grad_fn) # 사용자가 만든 텐서의 grad_fn은 none입니다.\n",
    "a.requires_grad_(True)\n",
    "print(a.requires_grad) # 설정 안 했다가 True로 설정하면 True로 잡히기 시작함.\n",
    "b = (a*a).sum()\n",
    "print(b.grad_fn) #requires_grad_(True)로 지정하고 연산하면 이렇게 grad_fn가 생깁니다."
   ]
  },
  {
   "cell_type": "markdown",
   "metadata": {},
   "source": [
    "### Gradient"
   ]
  },
  {
   "cell_type": "code",
   "execution_count": 8,
   "metadata": {},
   "outputs": [
    {
     "name": "stdout",
     "output_type": "stream",
     "text": [
      "tensor(27., grad_fn=<MeanBackward1>)\n"
     ]
    }
   ],
   "source": [
    "print(out) # out = 3(x+2)*2\n",
    "out.backward()"
   ]
  },
  {
   "cell_type": "code",
   "execution_count": 9,
   "metadata": {},
   "outputs": [
    {
     "ename": "RuntimeError",
     "evalue": "Trying to backward through the graph a second time, but the buffers have already been freed. Specify retain_graph=True when calling backward the first time.",
     "output_type": "error",
     "traceback": [
      "\u001b[0;31m---------------------------------------------------------------------------\u001b[0m",
      "\u001b[0;31mRuntimeError\u001b[0m                              Traceback (most recent call last)",
      "\u001b[0;32m<ipython-input-9-01ab21e47ab2>\u001b[0m in \u001b[0;36m<module>\u001b[0;34m\u001b[0m\n\u001b[0;32m----> 1\u001b[0;31m \u001b[0mprint\u001b[0m\u001b[0;34m(\u001b[0m\u001b[0mout\u001b[0m\u001b[0;34m.\u001b[0m\u001b[0mbackward\u001b[0m\u001b[0;34m(\u001b[0m\u001b[0;34m)\u001b[0m\u001b[0;34m)\u001b[0m\u001b[0;34m\u001b[0m\u001b[0;34m\u001b[0m\u001b[0m\n\u001b[0m",
      "\u001b[0;32m/anaconda3/envs/python3/lib/python3.7/site-packages/torch/tensor.py\u001b[0m in \u001b[0;36mbackward\u001b[0;34m(self, gradient, retain_graph, create_graph)\u001b[0m\n\u001b[1;32m    100\u001b[0m                 \u001b[0mproducts\u001b[0m\u001b[0;34m.\u001b[0m \u001b[0mDefaults\u001b[0m \u001b[0mto\u001b[0m\u001b[0;31m \u001b[0m\u001b[0;31m`\u001b[0m\u001b[0;31m`\u001b[0m\u001b[0;32mFalse\u001b[0m\u001b[0;31m`\u001b[0m\u001b[0;31m`\u001b[0m\u001b[0;34m.\u001b[0m\u001b[0;34m\u001b[0m\u001b[0;34m\u001b[0m\u001b[0m\n\u001b[1;32m    101\u001b[0m         \"\"\"\n\u001b[0;32m--> 102\u001b[0;31m         \u001b[0mtorch\u001b[0m\u001b[0;34m.\u001b[0m\u001b[0mautograd\u001b[0m\u001b[0;34m.\u001b[0m\u001b[0mbackward\u001b[0m\u001b[0;34m(\u001b[0m\u001b[0mself\u001b[0m\u001b[0;34m,\u001b[0m \u001b[0mgradient\u001b[0m\u001b[0;34m,\u001b[0m \u001b[0mretain_graph\u001b[0m\u001b[0;34m,\u001b[0m \u001b[0mcreate_graph\u001b[0m\u001b[0;34m)\u001b[0m\u001b[0;34m\u001b[0m\u001b[0;34m\u001b[0m\u001b[0m\n\u001b[0m\u001b[1;32m    103\u001b[0m \u001b[0;34m\u001b[0m\u001b[0m\n\u001b[1;32m    104\u001b[0m     \u001b[0;32mdef\u001b[0m \u001b[0mregister_hook\u001b[0m\u001b[0;34m(\u001b[0m\u001b[0mself\u001b[0m\u001b[0;34m,\u001b[0m \u001b[0mhook\u001b[0m\u001b[0;34m)\u001b[0m\u001b[0;34m:\u001b[0m\u001b[0;34m\u001b[0m\u001b[0;34m\u001b[0m\u001b[0m\n",
      "\u001b[0;32m/anaconda3/envs/python3/lib/python3.7/site-packages/torch/autograd/__init__.py\u001b[0m in \u001b[0;36mbackward\u001b[0;34m(tensors, grad_tensors, retain_graph, create_graph, grad_variables)\u001b[0m\n\u001b[1;32m     88\u001b[0m     Variable._execution_engine.run_backward(\n\u001b[1;32m     89\u001b[0m         \u001b[0mtensors\u001b[0m\u001b[0;34m,\u001b[0m \u001b[0mgrad_tensors\u001b[0m\u001b[0;34m,\u001b[0m \u001b[0mretain_graph\u001b[0m\u001b[0;34m,\u001b[0m \u001b[0mcreate_graph\u001b[0m\u001b[0;34m,\u001b[0m\u001b[0;34m\u001b[0m\u001b[0;34m\u001b[0m\u001b[0m\n\u001b[0;32m---> 90\u001b[0;31m         allow_unreachable=True)  # allow_unreachable flag\n\u001b[0m\u001b[1;32m     91\u001b[0m \u001b[0;34m\u001b[0m\u001b[0m\n\u001b[1;32m     92\u001b[0m \u001b[0;34m\u001b[0m\u001b[0m\n",
      "\u001b[0;31mRuntimeError\u001b[0m: Trying to backward through the graph a second time, but the buffers have already been freed. Specify retain_graph=True when calling backward the first time."
     ]
    }
   ],
   "source": [
    "print(out.backward())"
   ]
  },
  {
   "cell_type": "code",
   "execution_count": 10,
   "metadata": {},
   "outputs": [
    {
     "name": "stdout",
     "output_type": "stream",
     "text": [
      "tensor([[1., 1.],\n",
      "        [1., 1.]], requires_grad=True)\n",
      "tensor([[4.5000, 4.5000],\n",
      "        [4.5000, 4.5000]])\n"
     ]
    }
   ],
   "source": [
    "print(x)\n",
    "print(x.grad) # d(out)/dx 를 출력합니다. -> 왜 4.5?"
   ]
  },
  {
   "cell_type": "code",
   "execution_count": 11,
   "metadata": {},
   "outputs": [
    {
     "name": "stdout",
     "output_type": "stream",
     "text": [
      "tensor([ 1.5549, -5.6909,  2.0553], grad_fn=<MulBackward0>) tensor(6.2472)\n",
      "tensor([  3.1097, -11.3818,   4.1106], grad_fn=<MulBackward0>) tensor(12.4945)\n",
      "tensor([  6.2194, -22.7635,   8.2213], grad_fn=<MulBackward0>) tensor(24.9890)\n",
      "tensor([ 12.4389, -45.5271,  16.4425], grad_fn=<MulBackward0>) tensor(49.9779)\n",
      "tensor([ 24.8777, -91.0541,  32.8850], grad_fn=<MulBackward0>) tensor(99.9559)\n",
      "tensor([  49.7554, -182.1082,   65.7701], grad_fn=<MulBackward0>) tensor(199.9118)\n",
      "tensor([  99.5109, -364.2164,  131.5402], grad_fn=<MulBackward0>) tensor(399.8235)\n",
      "tensor([ 199.0218, -728.4329,  263.0804], grad_fn=<MulBackward0>) tensor(799.6470)\n",
      "tensor([  398.0435, -1456.8657,   526.1607], grad_fn=<MulBackward0>) tensor(1599.2941)\n"
     ]
    }
   ],
   "source": [
    "x = torch.randn(3,requires_grad=True)\n",
    "\n",
    "y=x*2\n",
    "\n",
    "while y.data.norm() < 1000:\n",
    "    \n",
    "    #data.norm()은 점들 사이의 유클리디안 거리를 나타냅니다\n",
    "    #torch.sqrt(torch.sum(torch.pow(y, 2)))\n",
    "    \n",
    "    y = y*2\n",
    "    \n",
    "    print(y,y.data.norm())"
   ]
  },
  {
   "cell_type": "code",
   "execution_count": 17,
   "metadata": {},
   "outputs": [
    {
     "name": "stdout",
     "output_type": "stream",
     "text": [
      "tensor([  398.0435, -1456.8657,   526.1607], grad_fn=<MulBackward0>)\n",
      "tensor([1.0240e+02, 1.0240e+03, 1.0240e-01])\n"
     ]
    }
   ],
   "source": [
    "gradients = torch.tensor([0.1,1.0,0.0001],dtype=torch.float)\n",
    "print(y)\n",
    "y.backward(gradients)\n",
    "print(x.grad) # d(y)/d(x) 를 출력합니다"
   ]
  },
  {
   "cell_type": "markdown",
   "metadata": {},
   "source": [
    "이건 의미가 뭐지"
   ]
  },
  {
   "cell_type": "code",
   "execution_count": 18,
   "metadata": {},
   "outputs": [
    {
     "name": "stdout",
     "output_type": "stream",
     "text": [
      "True\n",
      "True\n",
      "False\n",
      "True\n"
     ]
    }
   ],
   "source": [
    "print(x.requires_grad)\n",
    "print((x**2).requires_grad)\n",
    "\n",
    "with torch.no_grad():\n",
    "    print((x**2).requires_grad) #tensor들의 연산 기록 추적을 막을 수 있습니다.\n",
    "     \n",
    "print((x**2).requires_grad)"
   ]
  },
  {
   "cell_type": "markdown",
   "metadata": {},
   "source": [
    "# MNIST"
   ]
  },
  {
   "cell_type": "code",
   "execution_count": 20,
   "metadata": {},
   "outputs": [],
   "source": [
    "import torch.nn as nn\n",
    "import torch.optim as optim\n",
    "\n",
    "from torch.autograd import Variable\n",
    "from torch.utils.data import DataLoader\n",
    "from torchvision import transforms\n",
    "from torchvision import datasets\n",
    "\n",
    "batch_size = 32\n",
    "learning_rate = 0.01\n",
    "num_epochs = 5\n",
    "\n",
    "train_dataset = datasets.MNIST(root = './data', train = True, transform = transforms.ToTensor())\n",
    "test_dataset = datasets.MNIST(root = './data',train = False, transform = transforms.ToTensor())"
   ]
  },
  {
   "cell_type": "code",
   "execution_count": 22,
   "metadata": {},
   "outputs": [],
   "source": [
    "train_loader = DataLoader(train_dataset, batch_size=batch_size, shuffle=True)\n",
    "test_loader = DataLoader(test_dataset,batch_size=batch_size,shuffle=False)"
   ]
  },
  {
   "cell_type": "code",
   "execution_count": 24,
   "metadata": {},
   "outputs": [],
   "source": [
    "class Neuralnetwork(nn.Module):\n",
    "    def __init__(self, num_classes = 10):\n",
    "        super(Neuralnetwork, self).__init__()\n",
    "        self.layer1 = nn.Linear(28*28, 100)\n",
    "        self.layer2 = nn.Linear(100,200)\n",
    "        self.layer3 = nn.Linear(200, num_classes)\n",
    "        \n",
    "    def forward(self, x):\n",
    "        out = x.view(x.size(0),-1) # x.size는 batch size다. \n",
    "        out = self.layer1(out)\n",
    "        out = self.layer2(out)\n",
    "        out = self.layer3(out)\n",
    "        return out"
   ]
  },
  {
   "cell_type": "code",
   "execution_count": 25,
   "metadata": {},
   "outputs": [],
   "source": [
    "model = Neuralnetwork()"
   ]
  },
  {
   "cell_type": "code",
   "execution_count": 26,
   "metadata": {},
   "outputs": [],
   "source": [
    "criterion = nn.CrossEntropyLoss()"
   ]
  },
  {
   "cell_type": "code",
   "execution_count": 27,
   "metadata": {},
   "outputs": [],
   "source": [
    "optimizer = optim.SGD(model.parameters(), lr = learning_rate)"
   ]
  },
  {
   "cell_type": "code",
   "execution_count": 30,
   "metadata": {
    "scrolled": true
   },
   "outputs": [
    {
     "name": "stdout",
     "output_type": "stream",
     "text": [
      "Epoch [1/5], Step [100/1875], Loss : 1.8111\n",
      "Epoch [1/5], Step [200/1875], Loss : 1.2558\n",
      "Epoch [1/5], Step [300/1875], Loss : 1.1683\n",
      "Epoch [1/5], Step [400/1875], Loss : 0.6202\n",
      "Epoch [1/5], Step [500/1875], Loss : 0.6859\n",
      "Epoch [1/5], Step [600/1875], Loss : 0.7337\n",
      "Epoch [1/5], Step [700/1875], Loss : 0.6719\n",
      "Epoch [1/5], Step [800/1875], Loss : 0.6064\n",
      "Epoch [1/5], Step [900/1875], Loss : 0.3513\n",
      "Epoch [1/5], Step [1000/1875], Loss : 0.3808\n",
      "Epoch [1/5], Step [1100/1875], Loss : 0.5986\n",
      "Epoch [1/5], Step [1200/1875], Loss : 0.6180\n",
      "Epoch [1/5], Step [1300/1875], Loss : 0.2590\n",
      "Epoch [1/5], Step [1400/1875], Loss : 0.4708\n",
      "Epoch [1/5], Step [1500/1875], Loss : 0.3779\n",
      "Epoch [1/5], Step [1600/1875], Loss : 0.4954\n",
      "Epoch [1/5], Step [1700/1875], Loss : 0.3179\n",
      "Epoch [1/5], Step [1800/1875], Loss : 0.3693\n",
      "Epoch [2/5], Step [100/1875], Loss : 0.4486\n",
      "Epoch [2/5], Step [200/1875], Loss : 0.4823\n",
      "Epoch [2/5], Step [300/1875], Loss : 0.2172\n",
      "Epoch [2/5], Step [400/1875], Loss : 0.1886\n",
      "Epoch [2/5], Step [500/1875], Loss : 0.3407\n",
      "Epoch [2/5], Step [600/1875], Loss : 0.2214\n",
      "Epoch [2/5], Step [700/1875], Loss : 0.8203\n",
      "Epoch [2/5], Step [800/1875], Loss : 0.2088\n",
      "Epoch [2/5], Step [900/1875], Loss : 0.3743\n",
      "Epoch [2/5], Step [1000/1875], Loss : 0.3306\n",
      "Epoch [2/5], Step [1100/1875], Loss : 0.3950\n",
      "Epoch [2/5], Step [1200/1875], Loss : 0.1432\n",
      "Epoch [2/5], Step [1300/1875], Loss : 0.2769\n",
      "Epoch [2/5], Step [1400/1875], Loss : 0.4688\n",
      "Epoch [2/5], Step [1500/1875], Loss : 0.3225\n",
      "Epoch [2/5], Step [1600/1875], Loss : 0.2159\n",
      "Epoch [2/5], Step [1700/1875], Loss : 0.2382\n",
      "Epoch [2/5], Step [1800/1875], Loss : 0.2211\n",
      "Epoch [3/5], Step [100/1875], Loss : 0.4229\n",
      "Epoch [3/5], Step [200/1875], Loss : 0.1012\n",
      "Epoch [3/5], Step [300/1875], Loss : 0.2527\n",
      "Epoch [3/5], Step [400/1875], Loss : 0.3686\n",
      "Epoch [3/5], Step [500/1875], Loss : 0.5746\n",
      "Epoch [3/5], Step [600/1875], Loss : 0.3744\n",
      "Epoch [3/5], Step [700/1875], Loss : 0.3571\n",
      "Epoch [3/5], Step [800/1875], Loss : 0.3136\n",
      "Epoch [3/5], Step [900/1875], Loss : 0.3544\n",
      "Epoch [3/5], Step [1000/1875], Loss : 0.1045\n",
      "Epoch [3/5], Step [1100/1875], Loss : 0.1781\n",
      "Epoch [3/5], Step [1200/1875], Loss : 0.1988\n",
      "Epoch [3/5], Step [1300/1875], Loss : 0.2206\n",
      "Epoch [3/5], Step [1400/1875], Loss : 0.1936\n",
      "Epoch [3/5], Step [1500/1875], Loss : 0.4175\n",
      "Epoch [3/5], Step [1600/1875], Loss : 0.1400\n",
      "Epoch [3/5], Step [1700/1875], Loss : 0.2288\n",
      "Epoch [3/5], Step [1800/1875], Loss : 0.3515\n",
      "Epoch [4/5], Step [100/1875], Loss : 0.4132\n",
      "Epoch [4/5], Step [200/1875], Loss : 0.2846\n",
      "Epoch [4/5], Step [300/1875], Loss : 0.5141\n",
      "Epoch [4/5], Step [400/1875], Loss : 0.2434\n",
      "Epoch [4/5], Step [500/1875], Loss : 0.2892\n",
      "Epoch [4/5], Step [600/1875], Loss : 0.5511\n",
      "Epoch [4/5], Step [700/1875], Loss : 0.3503\n",
      "Epoch [4/5], Step [800/1875], Loss : 0.7802\n",
      "Epoch [4/5], Step [900/1875], Loss : 0.5442\n",
      "Epoch [4/5], Step [1000/1875], Loss : 0.3380\n",
      "Epoch [4/5], Step [1100/1875], Loss : 0.2152\n",
      "Epoch [4/5], Step [1200/1875], Loss : 0.2421\n",
      "Epoch [4/5], Step [1300/1875], Loss : 0.3709\n",
      "Epoch [4/5], Step [1400/1875], Loss : 0.2457\n",
      "Epoch [4/5], Step [1500/1875], Loss : 0.5050\n",
      "Epoch [4/5], Step [1600/1875], Loss : 0.1769\n",
      "Epoch [4/5], Step [1700/1875], Loss : 0.3797\n",
      "Epoch [4/5], Step [1800/1875], Loss : 0.1383\n",
      "Epoch [5/5], Step [100/1875], Loss : 0.2901\n",
      "Epoch [5/5], Step [200/1875], Loss : 0.4848\n",
      "Epoch [5/5], Step [300/1875], Loss : 0.3605\n",
      "Epoch [5/5], Step [400/1875], Loss : 0.2433\n",
      "Epoch [5/5], Step [500/1875], Loss : 0.4537\n",
      "Epoch [5/5], Step [600/1875], Loss : 0.1963\n",
      "Epoch [5/5], Step [700/1875], Loss : 0.2371\n",
      "Epoch [5/5], Step [800/1875], Loss : 0.1291\n",
      "Epoch [5/5], Step [900/1875], Loss : 0.1210\n",
      "Epoch [5/5], Step [1000/1875], Loss : 0.2131\n",
      "Epoch [5/5], Step [1100/1875], Loss : 0.3115\n",
      "Epoch [5/5], Step [1200/1875], Loss : 0.5170\n",
      "Epoch [5/5], Step [1300/1875], Loss : 0.2444\n",
      "Epoch [5/5], Step [1400/1875], Loss : 0.3061\n",
      "Epoch [5/5], Step [1500/1875], Loss : 0.1958\n",
      "Epoch [5/5], Step [1600/1875], Loss : 0.1692\n",
      "Epoch [5/5], Step [1700/1875], Loss : 0.2581\n",
      "Epoch [5/5], Step [1800/1875], Loss : 0.2242\n"
     ]
    }
   ],
   "source": [
    "for epoch in range(num_epochs):\n",
    "    for idx, (img, label) in enumerate(train_loader,1):\n",
    "        img, label = Variable(img), Variable(label)\n",
    "        out = model(img)\n",
    "        loss = criterion(out,label)\n",
    "        \n",
    "        # backward and optimize\n",
    "        optimizer.zero_grad()\n",
    "        loss.backward()\n",
    "        optimizer.step()\n",
    "        \n",
    "        if (idx+1) % 100 ==0:\n",
    "            print(\"Epoch [{}/{}], Step [{}/{}], Loss : {:.4f}\".format(epoch+1, num_epochs, idx+1, len(train_loader), loss.item()))\n",
    "            "
   ]
  },
  {
   "cell_type": "code",
   "execution_count": 31,
   "metadata": {},
   "outputs": [
    {
     "name": "stdout",
     "output_type": "stream",
     "text": [
      "Test Accuracy of the Model on the 10000 test images : 92.13 %\n"
     ]
    }
   ],
   "source": [
    "model.eval()\n",
    "\n",
    "correct = 0\n",
    "total = 0\n",
    "for img, label in test_loader:\n",
    "    out = model(img)\n",
    "    _, predicted = torch.max(out.data,1)\n",
    "    total += label.size(0)\n",
    "    correct+= (predicted == label).sum().item()\n",
    "\n",
    "\n",
    "print('Test Accuracy of the Model on the 10000 test images : {} %'.format(100 * correct / total))"
   ]
  },
  {
   "cell_type": "code",
   "execution_count": 32,
   "metadata": {},
   "outputs": [],
   "source": [
    "torch.save(model.state_dict(),\"model_nn.ckpt\")"
   ]
  },
  {
   "cell_type": "code",
   "execution_count": null,
   "metadata": {},
   "outputs": [],
   "source": []
  }
 ],
 "metadata": {
  "kernelspec": {
   "display_name": "Python 3",
   "language": "python",
   "name": "python3"
  },
  "language_info": {
   "codemirror_mode": {
    "name": "ipython",
    "version": 3
   },
   "file_extension": ".py",
   "mimetype": "text/x-python",
   "name": "python",
   "nbconvert_exporter": "python",
   "pygments_lexer": "ipython3",
   "version": "3.7.1"
  }
 },
 "nbformat": 4,
 "nbformat_minor": 2
}
